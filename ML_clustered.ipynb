{
 "cells": [
  {
   "cell_type": "markdown",
   "id": "6e3f9d2e-e0c4-4acc-9c55-7bd2649ecdd8",
   "metadata": {},
   "source": [
    "# Algorythme (inspired by clustered) :\n",
    "\n",
    "The algorythme plot datas as points in a space (if you have 2 parameteres there will be 2 dimensions, if you have X parameteres there will X dimensions). If you want to have the cathegorie of a point (Y), the algorythme will find the nearest point and assign his category to the Y point. The operation is simple enough for bank fraud (example at the end)."
   ]
  },
  {
   "cell_type": "markdown",
   "id": "4e2aefa8",
   "metadata": {},
   "source": [
    "### Install pandas :"
   ]
  },
  {
   "cell_type": "code",
   "execution_count": 1,
   "id": "8145a7b1",
   "metadata": {},
   "outputs": [
    {
     "name": "stdout",
     "output_type": "stream",
     "text": [
      "Requirement already satisfied: pandas in /Library/Frameworks/Python.framework/Versions/3.10/lib/python3.10/site-packages (1.5.0)\r\n",
      "Requirement already satisfied: numpy>=1.21.0 in /Library/Frameworks/Python.framework/Versions/3.10/lib/python3.10/site-packages (from pandas) (1.23.3)\r\n",
      "Requirement already satisfied: python-dateutil>=2.8.1 in /Library/Frameworks/Python.framework/Versions/3.10/lib/python3.10/site-packages (from pandas) (2.8.2)\r\n",
      "Requirement already satisfied: pytz>=2020.1 in /Library/Frameworks/Python.framework/Versions/3.10/lib/python3.10/site-packages (from pandas) (2022.2.1)\r\n",
      "Requirement already satisfied: six>=1.5 in /Library/Frameworks/Python.framework/Versions/3.10/lib/python3.10/site-packages (from python-dateutil>=2.8.1->pandas) (1.16.0)\r\n"
     ]
    }
   ],
   "source": [
    "!pip install pandas"
   ]
  },
  {
   "cell_type": "markdown",
   "id": "6ac7cb81",
   "metadata": {},
   "source": [
    "### Import pandas :"
   ]
  },
  {
   "cell_type": "code",
   "execution_count": 2,
   "id": "9aa5ad52",
   "metadata": {},
   "outputs": [],
   "source": [
    "import pandas as pd"
   ]
  },
  {
   "cell_type": "code",
   "execution_count": 76,
   "id": "6bb16624-d5b1-493c-a5b5-5e99685b8554",
   "metadata": {},
   "outputs": [],
   "source": [
    "class Nuage_Point:\n",
    "    def __init__(self, caracteristique_coordone = []):\n",
    "        self.point_dic = {}\n",
    "        self.Nombre_coordone = len(caracteristique_coordone)\n",
    "        for x in range (0, self.Nombre_coordone):\n",
    "            self.point_dic[caracteristique_coordone[x]] = []\n",
    "        self.point_dic[\"Categorie\"] = []\n",
    "        self.point_pandas = pd.DataFrame(self.point_dic)\n",
    "\n",
    "    def ajouter_point(self, coordone =[], caracteritique = \"\"):\n",
    "        self.point_a_ajouter_list = []\n",
    "        for x in coordone:\n",
    "            self.point_a_ajouter_list.append(x)\n",
    "        self.point_a_ajouter_list.append(caracteritique)\n",
    "        self.point_pandas.loc[len(self.point_pandas.index)] = self.point_a_ajouter_list\n",
    "\n",
    "    def point_proche(self, pointdonne = []):\n",
    "        self.somme = 0\n",
    "        self.somme2 = 0\n",
    "        self.best_caract = \"\"\n",
    "        for x in range (0, len(self.point_pandas.index)):\n",
    "            self.point_distance = []\n",
    "            for z in range (0, self.Nombre_coordone):\n",
    "                self.point_distance.append(self.point_pandas.iloc[x,z])\n",
    "            self.somme = 0\n",
    "            for y in range (0, self.Nombre_coordone):\n",
    "                self.somme = self.somme + pow((self.point_distance[y]- pointdonne[y]), 2)\n",
    "            if self.somme < self.somme2 or x == 0:\n",
    "                self.somme2 = self.somme\n",
    "                self.best_caract = self.point_pandas.iloc[x,self.Nombre_coordone]\n",
    "        return self.best_caract\n",
    "    \n",
    "    def export(self):\n",
    "        self.xml_export = self.point_pandas.to_xml()\n",
    "        return self.xml_export    "
   ]
  },
  {
   "cell_type": "markdown",
   "id": "dd135a12-4941-4ba9-9407-2a652f399b7a",
   "metadata": {
    "tags": []
   },
   "source": [
    "### Install matplotlib (preferably 3.6) :"
   ]
  },
  {
   "cell_type": "code",
   "execution_count": 77,
   "id": "916953c7-2049-4ade-9df0-3e0f7ad7233b",
   "metadata": {},
   "outputs": [
    {
     "name": "stdout",
     "output_type": "stream",
     "text": [
      "Requirement already satisfied: matplotlib==3.6 in /Library/Frameworks/Python.framework/Versions/3.10/lib/python3.10/site-packages (3.6.0)\n",
      "Requirement already satisfied: pyparsing>=2.2.1 in /Library/Frameworks/Python.framework/Versions/3.10/lib/python3.10/site-packages (from matplotlib==3.6) (3.0.9)\n",
      "Requirement already satisfied: python-dateutil>=2.7 in /Library/Frameworks/Python.framework/Versions/3.10/lib/python3.10/site-packages (from matplotlib==3.6) (2.8.2)\n",
      "Requirement already satisfied: contourpy>=1.0.1 in /Library/Frameworks/Python.framework/Versions/3.10/lib/python3.10/site-packages (from matplotlib==3.6) (1.0.5)\n",
      "Requirement already satisfied: cycler>=0.10 in /Library/Frameworks/Python.framework/Versions/3.10/lib/python3.10/site-packages (from matplotlib==3.6) (0.11.0)\n",
      "Requirement already satisfied: pillow>=6.2.0 in /Library/Frameworks/Python.framework/Versions/3.10/lib/python3.10/site-packages (from matplotlib==3.6) (9.2.0)\n",
      "Requirement already satisfied: fonttools>=4.22.0 in /Library/Frameworks/Python.framework/Versions/3.10/lib/python3.10/site-packages (from matplotlib==3.6) (4.37.3)\n",
      "Requirement already satisfied: numpy>=1.19 in /Library/Frameworks/Python.framework/Versions/3.10/lib/python3.10/site-packages (from matplotlib==3.6) (1.23.3)\n",
      "Requirement already satisfied: packaging>=20.0 in /Library/Frameworks/Python.framework/Versions/3.10/lib/python3.10/site-packages (from matplotlib==3.6) (21.3)\n",
      "Requirement already satisfied: kiwisolver>=1.0.1 in /Library/Frameworks/Python.framework/Versions/3.10/lib/python3.10/site-packages (from matplotlib==3.6) (1.4.4)\n",
      "Requirement already satisfied: six>=1.5 in /Library/Frameworks/Python.framework/Versions/3.10/lib/python3.10/site-packages (from python-dateutil>=2.7->matplotlib==3.6) (1.16.0)\n"
     ]
    }
   ],
   "source": [
    "!pip install matplotlib==3.6"
   ]
  },
  {
   "cell_type": "markdown",
   "id": "e7319c1b-938e-40d4-9c06-3dc33250eda7",
   "metadata": {},
   "source": [
    "### Import random and pyplot from matplotlib :"
   ]
  },
  {
   "cell_type": "code",
   "execution_count": 78,
   "id": "6003f8f3-b565-41c7-a29d-0aefbb7202f4",
   "metadata": {},
   "outputs": [],
   "source": [
    "import random\n",
    "from matplotlib import pyplot as plt"
   ]
  },
  {
   "cell_type": "markdown",
   "id": "da4ddcf6-4b9f-4c8c-879c-a7fe0baaac22",
   "metadata": {},
   "source": [
    "# Generate data (imitating reality) and test:\n"
   ]
  },
  {
   "cell_type": "code",
   "execution_count": 88,
   "id": "6ca2a5da-41ed-4ab9-89ec-16e7480e56ae",
   "metadata": {},
   "outputs": [
    {
     "name": "stdout",
     "output_type": "stream",
     "text": [
      "Transaction per minute : 2\n",
      "Amount : 20\n",
      "The transaction is :  No Fraud\n"
     ]
    },
    {
     "data": {
      "image/png": "[encoded data removed]",
      "text/plain": [
       "<Figure size 432x288 with 1 Axes>"
      ]
     },
     "metadata": {
      "needs_background": "light"
     },
     "output_type": "display_data"
    }
   ],
   "source": [
    "test = Nuage_Point([\"transaction_x\", \"amount_y\"])\n",
    "\n",
    "XATest = float(input(\"Transaction per minute : \"))\n",
    "YATest = float(input(\"Amount : \"))\n",
    "\n",
    "for y in range (1, 2000) :\n",
    "    x1 = random.randint(40, 90)\n",
    "\n",
    "    test.ajouter_point([x1, y], \"Fraud\") # x = transaction per minute, y = amount\n",
    "    plt.plot(x1, y, marker=\"o\", color=\"red\")\n",
    "\n",
    "    x1 = random.randint(1, 20)\n",
    "    y1 = random.randint (60000, 1000000)\n",
    "    test.ajouter_point([x1, y1], \"Fraud\") # x = transaction per minute, y = amount\n",
    "    plt.plot(x1, y1, marker=\"o\", color=\"red\")\n",
    "\n",
    "    y2 = random.randint(6, 2000)\n",
    "    x2 = random.randint(1,3)\n",
    "    test.ajouter_point([x2, y2], \"No Fraud\")\n",
    "    plt.plot(x2, y2, marker=\"o\", color=\"green\")\n",
    "\n",
    "for x in range (0,10):\n",
    "    y2 = random.randint(50000, 1000000)\n",
    "    x2 = 1\n",
    "    test.ajouter_point([x2, y2], \"No Fraud\")\n",
    "\n",
    "    plt.plot(x2, y2, marker=\"o\", color=\"red\")\n",
    "    \n",
    "plt.plot(XATest, YATest, marker=\"o\", color=\"orange\")\n",
    "plt.annotate(Caracteristique, (XATest, YATest))\n",
    "plt.axis([0, XATest+60, YATest-60, YATest+60])\n",
    "\n",
    "Caracteristique = test.point_proche([XATest, YATest])\n",
    "print(\"The transaction is : \", Caracteristique)\n",
    "\n",
    "plt.show()"
   ]
  },
  {
   "cell_type": "markdown",
   "id": "acccfe88",
   "metadata": {},
   "source": [
    "# Download .xml file :"
   ]
  },
  {
   "cell_type": "code",
   "execution_count": 89,
   "id": "59466e86",
   "metadata": {},
   "outputs": [],
   "source": [
    "xml_export = test.export()\n",
    "                         \n",
    "with open('data.XML', 'w') as f:\n",
    "    f.write(xml_export)"
   ]
  }
 ],
 "metadata": {
  "kernelspec": {
   "display_name": "Python 3 (ipykernel)",
   "language": "python",
   "name": "python3"
  },
  "language_info": {
   "codemirror_mode": {
    "name": "ipython",
    "version": 3
   },
   "file_extension": ".py",
   "mimetype": "text/x-python",
   "name": "python",
   "nbconvert_exporter": "python",
   "pygments_lexer": "ipython3",
   "version": "3.10.6"
  }
 },
 "nbformat": 4,
 "nbformat_minor": 5
}
